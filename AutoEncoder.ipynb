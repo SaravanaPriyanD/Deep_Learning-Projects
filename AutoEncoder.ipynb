{
  "nbformat": 4,
  "nbformat_minor": 0,
  "metadata": {
    "colab": {
      "name": "AutoEncoder.ipynb",
      "provenance": [],
      "authorship_tag": "ABX9TyOpElJCiXP+HzxuEZyBCRJQ",
      "include_colab_link": true
    },
    "kernelspec": {
      "name": "python3",
      "display_name": "Python 3"
    },
    "accelerator": "GPU"
  },
  "cells": [
    {
      "cell_type": "markdown",
      "metadata": {
        "id": "view-in-github",
        "colab_type": "text"
      },
      "source": [
        "<a href=\"https://colab.research.google.com/github/SaravanaPriyanD/Deep_Learning-Projects/blob/master/AutoEncoder.ipynb\" target=\"_parent\"><img src=\"https://colab.research.google.com/assets/colab-badge.svg\" alt=\"Open In Colab\"/></a>"
      ]
    },
    {
      "cell_type": "code",
      "metadata": {
        "id": "Sh1ab_6pPqdp",
        "colab_type": "code",
        "colab": {
          "base_uri": "https://localhost:8080/",
          "height": 34
        },
        "outputId": "573bc6a0-3445-4ed3-f24f-fea8112d3dde"
      },
      "source": [
        "import torch\n",
        "print('cuda' if torch.cuda.is_available() else 'cpu')"
      ],
      "execution_count": 1,
      "outputs": [
        {
          "output_type": "stream",
          "text": [
            "cuda\n"
          ],
          "name": "stdout"
        }
      ]
    },
    {
      "cell_type": "code",
      "metadata": {
        "id": "E-HE7vmhQW8e",
        "colab_type": "code",
        "colab": {}
      },
      "source": [
        "# Importing the libraries\n",
        "import numpy as np\n",
        "import pandas as pd\n",
        "import torch\n",
        "import torch.nn as nn\n",
        "import torch.nn.parallel\n",
        "import torch.optim as optim\n",
        "import torch.utils.data\n",
        "from torch.autograd import Variable"
      ],
      "execution_count": 0,
      "outputs": []
    },
    {
      "cell_type": "code",
      "metadata": {
        "id": "bsJn5pgXQwrV",
        "colab_type": "code",
        "colab": {
          "base_uri": "https://localhost:8080/",
          "height": 122
        },
        "outputId": "66d9c567-81a8-497a-8c78-fc2994482fdf"
      },
      "source": [
        "from google.colab import drive\n",
        "drive.mount('/content/drive/')"
      ],
      "execution_count": 4,
      "outputs": [
        {
          "output_type": "stream",
          "text": [
            "Go to this URL in a browser: https://accounts.google.com/o/oauth2/auth?client_id=947318989803-6bn6qk8qdgf4n4g3pfee6491hc0brc4i.apps.googleusercontent.com&redirect_uri=urn%3aietf%3awg%3aoauth%3a2.0%3aoob&response_type=code&scope=email%20https%3a%2f%2fwww.googleapis.com%2fauth%2fdocs.test%20https%3a%2f%2fwww.googleapis.com%2fauth%2fdrive%20https%3a%2f%2fwww.googleapis.com%2fauth%2fdrive.photos.readonly%20https%3a%2f%2fwww.googleapis.com%2fauth%2fpeopleapi.readonly\n",
            "\n",
            "Enter your authorization code:\n",
            "··········\n",
            "Mounted at /content/drive/\n"
          ],
          "name": "stdout"
        }
      ]
    },
    {
      "cell_type": "code",
      "metadata": {
        "id": "dxm5GhRGQfl7",
        "colab_type": "code",
        "colab": {}
      },
      "source": [
        "# Importing the dataset\n",
        "movies = pd.read_csv('/content/drive/My Drive/Colab Files/Boltzmann_Machines/ml-1m/movies.dat', sep = '::', header = None, engine = 'python', encoding = 'latin-1')\n",
        "users = pd.read_csv('/content/drive/My Drive/Colab Files/Boltzmann_Machines/ml-1m/users.dat', sep = '::', header = None, engine = 'python', encoding = 'latin-1')\n",
        "ratings = pd.read_csv('/content/drive/My Drive/Colab Files/Boltzmann_Machines/ml-1m/ratings.dat', sep = '::', header = None, engine = 'python', encoding = 'latin-1')"
      ],
      "execution_count": 0,
      "outputs": []
    },
    {
      "cell_type": "code",
      "metadata": {
        "id": "7bwYW34xQ9-_",
        "colab_type": "code",
        "colab": {}
      },
      "source": [
        "# Preparing the training set and the test set\n",
        "training_set = pd.read_csv('/content/drive/My Drive/Colab Files/Boltzmann_Machines/ml-100k/u1.base', delimiter = '\\t')\n",
        "training_set = np.array(training_set, dtype = 'int')\n",
        "test_set = pd.read_csv('/content/drive/My Drive/Colab Files/Boltzmann_Machines/ml-100k/u1.test', delimiter = '\\t')\n",
        "test_set = np.array(test_set, dtype = 'int')"
      ],
      "execution_count": 0,
      "outputs": []
    },
    {
      "cell_type": "code",
      "metadata": {
        "id": "yo5lPOFSRFjP",
        "colab_type": "code",
        "colab": {}
      },
      "source": [
        "# Getting the number of users and movies\n",
        "nb_users = int(max(max(training_set[:,0]), max(test_set[:,0])))\n",
        "nb_movies = int(max(max(training_set[:,1]), max(test_set[:,1])))"
      ],
      "execution_count": 0,
      "outputs": []
    },
    {
      "cell_type": "code",
      "metadata": {
        "id": "EBKZUDbZRJPO",
        "colab_type": "code",
        "colab": {
          "base_uri": "https://localhost:8080/",
          "height": 34
        },
        "outputId": "6736ef1e-3afa-4057-aeb3-d0eacb1fe715"
      },
      "source": [
        "nb_users\n",
        "nb_movies"
      ],
      "execution_count": 9,
      "outputs": [
        {
          "output_type": "execute_result",
          "data": {
            "text/plain": [
              "1682"
            ]
          },
          "metadata": {
            "tags": []
          },
          "execution_count": 9
        }
      ]
    },
    {
      "cell_type": "code",
      "metadata": {
        "id": "4NFVu6j5ROUF",
        "colab_type": "code",
        "colab": {}
      },
      "source": [
        "# Converting the data into an array with users in lines and movies in columns\n",
        "def convert(data):\n",
        "    new_data = []\n",
        "    for id_users in range(1, nb_users + 1):\n",
        "        id_movies = data[:,1][data[:,0] == id_users]\n",
        "        id_ratings = data[:,2][data[:,0] == id_users]\n",
        "        ratings = np.zeros(nb_movies)\n",
        "        ratings[id_movies - 1] = id_ratings\n",
        "        new_data.append(list(ratings))\n",
        "    return new_data\n",
        "training_set = convert(training_set)\n",
        "test_set = convert(test_set)\n",
        "\n",
        "# Converting the data into Torch tensors\n",
        "training_set = torch.FloatTensor(training_set)\n",
        "test_set = torch.FloatTensor(test_set)"
      ],
      "execution_count": 0,
      "outputs": []
    },
    {
      "cell_type": "code",
      "metadata": {
        "id": "zQ7k2Y45RWIW",
        "colab_type": "code",
        "colab": {}
      },
      "source": [
        "# Creating the architecture of the Neural Network\n",
        "class SAE(nn.Module):\n",
        "    def __init__(self, ):\n",
        "        super(SAE, self).__init__()\n",
        "        self.fc1 = nn.Linear(nb_movies, 20)\n",
        "        self.fc2 = nn.Linear(20, 10)\n",
        "        self.fc3 = nn.Linear(10, 20)\n",
        "        self.fc4 = nn.Linear(20, nb_movies)\n",
        "        self.activation = nn.Sigmoid()\n",
        "    def forward(self, x):\n",
        "        x = self.activation(self.fc1(x))\n",
        "        x = self.activation(self.fc2(x))\n",
        "        x = self.activation(self.fc3(x))\n",
        "        x = self.fc4(x)\n",
        "        return x\n",
        "sae = SAE()\n",
        "criterion = nn.MSELoss()\n",
        "optimizer = optim.RMSprop(sae.parameters(), lr = 0.01, weight_decay = 0.5)\n"
      ],
      "execution_count": 0,
      "outputs": []
    },
    {
      "cell_type": "code",
      "metadata": {
        "id": "PwQNbG57RYZ6",
        "colab_type": "code",
        "colab": {
          "base_uri": "https://localhost:8080/",
          "height": 1000
        },
        "outputId": "7a6a8c20-96d4-4fb4-f142-3a1be0c559a5"
      },
      "source": [
        "# Training the SAE\n",
        "nb_epoch = 200\n",
        "for epoch in range(1, nb_epoch + 1):\n",
        "    train_loss = 0\n",
        "    s = 0.\n",
        "    for id_user in range(nb_users):\n",
        "        input = Variable(training_set[id_user]).unsqueeze(0)\n",
        "        target = input.clone()\n",
        "        if torch.sum(target.data > 0) > 0:\n",
        "            output = sae(input)\n",
        "            target.require_grad = False\n",
        "            output[target == 0] = 0\n",
        "            loss = criterion(output, target)\n",
        "            mean_corrector = nb_movies/float(torch.sum(target.data > 0) + 1e-10)\n",
        "            loss.backward()\n",
        "            train_loss += np.sqrt(loss.data*mean_corrector)\n",
        "            s += 1.\n",
        "            optimizer.step()\n",
        "    print('epoch: '+str(epoch)+' loss: '+str(train_loss/s))\n"
      ],
      "execution_count": 13,
      "outputs": [
        {
          "output_type": "stream",
          "text": [
            "epoch: 1 loss: tensor(1.7663)\n",
            "epoch: 2 loss: tensor(1.0966)\n",
            "epoch: 3 loss: tensor(1.0533)\n",
            "epoch: 4 loss: tensor(1.0384)\n",
            "epoch: 5 loss: tensor(1.0309)\n",
            "epoch: 6 loss: tensor(1.0268)\n",
            "epoch: 7 loss: tensor(1.0237)\n",
            "epoch: 8 loss: tensor(1.0222)\n",
            "epoch: 9 loss: tensor(1.0206)\n",
            "epoch: 10 loss: tensor(1.0196)\n",
            "epoch: 11 loss: tensor(1.0186)\n",
            "epoch: 12 loss: tensor(1.0183)\n",
            "epoch: 13 loss: tensor(1.0180)\n",
            "epoch: 14 loss: tensor(1.0173)\n",
            "epoch: 15 loss: tensor(1.0173)\n",
            "epoch: 16 loss: tensor(1.0167)\n",
            "epoch: 17 loss: tensor(1.0168)\n",
            "epoch: 18 loss: tensor(1.0163)\n",
            "epoch: 19 loss: tensor(1.0166)\n",
            "epoch: 20 loss: tensor(1.0163)\n",
            "epoch: 21 loss: tensor(1.0160)\n",
            "epoch: 22 loss: tensor(1.0158)\n",
            "epoch: 23 loss: tensor(1.0159)\n",
            "epoch: 24 loss: tensor(1.0159)\n",
            "epoch: 25 loss: tensor(1.0156)\n",
            "epoch: 26 loss: tensor(1.0154)\n",
            "epoch: 27 loss: tensor(1.0152)\n",
            "epoch: 28 loss: tensor(1.0149)\n",
            "epoch: 29 loss: tensor(1.0128)\n",
            "epoch: 30 loss: tensor(1.0119)\n",
            "epoch: 31 loss: tensor(1.0095)\n",
            "epoch: 32 loss: tensor(1.0092)\n",
            "epoch: 33 loss: tensor(1.0046)\n",
            "epoch: 34 loss: tensor(1.0037)\n",
            "epoch: 35 loss: tensor(1.0011)\n",
            "epoch: 36 loss: tensor(1.0010)\n",
            "epoch: 37 loss: tensor(0.9981)\n",
            "epoch: 38 loss: tensor(0.9956)\n",
            "epoch: 39 loss: tensor(0.9936)\n",
            "epoch: 40 loss: tensor(0.9908)\n",
            "epoch: 41 loss: tensor(0.9890)\n",
            "epoch: 42 loss: tensor(0.9895)\n",
            "epoch: 43 loss: tensor(0.9868)\n",
            "epoch: 44 loss: tensor(0.9854)\n",
            "epoch: 45 loss: tensor(0.9810)\n",
            "epoch: 46 loss: tensor(0.9820)\n",
            "epoch: 47 loss: tensor(0.9788)\n",
            "epoch: 48 loss: tensor(0.9781)\n",
            "epoch: 49 loss: tensor(0.9733)\n",
            "epoch: 50 loss: tensor(0.9747)\n",
            "epoch: 51 loss: tensor(0.9743)\n",
            "epoch: 52 loss: tensor(0.9724)\n",
            "epoch: 53 loss: tensor(0.9696)\n",
            "epoch: 54 loss: tensor(0.9708)\n",
            "epoch: 55 loss: tensor(0.9658)\n",
            "epoch: 56 loss: tensor(0.9682)\n",
            "epoch: 57 loss: tensor(0.9659)\n",
            "epoch: 58 loss: tensor(0.9641)\n",
            "epoch: 59 loss: tensor(0.9611)\n",
            "epoch: 60 loss: tensor(0.9609)\n",
            "epoch: 61 loss: tensor(0.9580)\n",
            "epoch: 62 loss: tensor(0.9594)\n",
            "epoch: 63 loss: tensor(0.9568)\n",
            "epoch: 64 loss: tensor(0.9568)\n",
            "epoch: 65 loss: tensor(0.9576)\n",
            "epoch: 66 loss: tensor(0.9546)\n",
            "epoch: 67 loss: tensor(0.9525)\n",
            "epoch: 68 loss: tensor(0.9519)\n",
            "epoch: 69 loss: tensor(0.9493)\n",
            "epoch: 70 loss: tensor(0.9500)\n",
            "epoch: 71 loss: tensor(0.9485)\n",
            "epoch: 72 loss: tensor(0.9496)\n",
            "epoch: 73 loss: tensor(0.9471)\n",
            "epoch: 74 loss: tensor(0.9451)\n",
            "epoch: 75 loss: tensor(0.9450)\n",
            "epoch: 76 loss: tensor(0.9450)\n",
            "epoch: 77 loss: tensor(0.9438)\n",
            "epoch: 78 loss: tensor(0.9426)\n",
            "epoch: 79 loss: tensor(0.9423)\n",
            "epoch: 80 loss: tensor(0.9418)\n",
            "epoch: 81 loss: tensor(0.9408)\n",
            "epoch: 82 loss: tensor(0.9418)\n",
            "epoch: 83 loss: tensor(0.9402)\n",
            "epoch: 84 loss: tensor(0.9397)\n",
            "epoch: 85 loss: tensor(0.9385)\n",
            "epoch: 86 loss: tensor(0.9380)\n",
            "epoch: 87 loss: tensor(0.9371)\n",
            "epoch: 88 loss: tensor(0.9373)\n",
            "epoch: 89 loss: tensor(0.9353)\n",
            "epoch: 90 loss: tensor(0.9366)\n",
            "epoch: 91 loss: tensor(0.9343)\n",
            "epoch: 92 loss: tensor(0.9356)\n",
            "epoch: 93 loss: tensor(0.9335)\n",
            "epoch: 94 loss: tensor(0.9354)\n",
            "epoch: 95 loss: tensor(0.9331)\n",
            "epoch: 96 loss: tensor(0.9339)\n",
            "epoch: 97 loss: tensor(0.9320)\n",
            "epoch: 98 loss: tensor(0.9335)\n",
            "epoch: 99 loss: tensor(0.9317)\n",
            "epoch: 100 loss: tensor(0.9326)\n",
            "epoch: 101 loss: tensor(0.9302)\n",
            "epoch: 102 loss: tensor(0.9313)\n",
            "epoch: 103 loss: tensor(0.9297)\n",
            "epoch: 104 loss: tensor(0.9307)\n",
            "epoch: 105 loss: tensor(0.9290)\n",
            "epoch: 106 loss: tensor(0.9298)\n",
            "epoch: 107 loss: tensor(0.9291)\n",
            "epoch: 108 loss: tensor(0.9296)\n",
            "epoch: 109 loss: tensor(0.9281)\n",
            "epoch: 110 loss: tensor(0.9287)\n",
            "epoch: 111 loss: tensor(0.9268)\n",
            "epoch: 112 loss: tensor(0.9285)\n",
            "epoch: 113 loss: tensor(0.9263)\n",
            "epoch: 114 loss: tensor(0.9273)\n",
            "epoch: 115 loss: tensor(0.9258)\n",
            "epoch: 116 loss: tensor(0.9266)\n",
            "epoch: 117 loss: tensor(0.9249)\n",
            "epoch: 118 loss: tensor(0.9260)\n",
            "epoch: 119 loss: tensor(0.9249)\n",
            "epoch: 120 loss: tensor(0.9256)\n",
            "epoch: 121 loss: tensor(0.9239)\n",
            "epoch: 122 loss: tensor(0.9246)\n",
            "epoch: 123 loss: tensor(0.9233)\n",
            "epoch: 124 loss: tensor(0.9243)\n",
            "epoch: 125 loss: tensor(0.9230)\n",
            "epoch: 126 loss: tensor(0.9238)\n",
            "epoch: 127 loss: tensor(0.9222)\n",
            "epoch: 128 loss: tensor(0.9228)\n",
            "epoch: 129 loss: tensor(0.9214)\n",
            "epoch: 130 loss: tensor(0.9224)\n",
            "epoch: 131 loss: tensor(0.9214)\n",
            "epoch: 132 loss: tensor(0.9221)\n",
            "epoch: 133 loss: tensor(0.9204)\n",
            "epoch: 134 loss: tensor(0.9211)\n",
            "epoch: 135 loss: tensor(0.9202)\n",
            "epoch: 136 loss: tensor(0.9211)\n",
            "epoch: 137 loss: tensor(0.9197)\n",
            "epoch: 138 loss: tensor(0.9207)\n",
            "epoch: 139 loss: tensor(0.9200)\n",
            "epoch: 140 loss: tensor(0.9203)\n",
            "epoch: 141 loss: tensor(0.9184)\n",
            "epoch: 142 loss: tensor(0.9196)\n",
            "epoch: 143 loss: tensor(0.9190)\n",
            "epoch: 144 loss: tensor(0.9196)\n",
            "epoch: 145 loss: tensor(0.9184)\n",
            "epoch: 146 loss: tensor(0.9210)\n",
            "epoch: 147 loss: tensor(0.9200)\n",
            "epoch: 148 loss: tensor(0.9189)\n",
            "epoch: 149 loss: tensor(0.9184)\n",
            "epoch: 150 loss: tensor(0.9186)\n",
            "epoch: 151 loss: tensor(0.9176)\n",
            "epoch: 152 loss: tensor(0.9180)\n",
            "epoch: 153 loss: tensor(0.9172)\n",
            "epoch: 154 loss: tensor(0.9174)\n",
            "epoch: 155 loss: tensor(0.9165)\n",
            "epoch: 156 loss: tensor(0.9174)\n",
            "epoch: 157 loss: tensor(0.9159)\n",
            "epoch: 158 loss: tensor(0.9168)\n",
            "epoch: 159 loss: tensor(0.9158)\n",
            "epoch: 160 loss: tensor(0.9164)\n",
            "epoch: 161 loss: tensor(0.9153)\n",
            "epoch: 162 loss: tensor(0.9158)\n",
            "epoch: 163 loss: tensor(0.9151)\n",
            "epoch: 164 loss: tensor(0.9158)\n",
            "epoch: 165 loss: tensor(0.9149)\n",
            "epoch: 166 loss: tensor(0.9154)\n",
            "epoch: 167 loss: tensor(0.9145)\n",
            "epoch: 168 loss: tensor(0.9149)\n",
            "epoch: 169 loss: tensor(0.9144)\n",
            "epoch: 170 loss: tensor(0.9148)\n",
            "epoch: 171 loss: tensor(0.9138)\n",
            "epoch: 172 loss: tensor(0.9146)\n",
            "epoch: 173 loss: tensor(0.9137)\n",
            "epoch: 174 loss: tensor(0.9141)\n",
            "epoch: 175 loss: tensor(0.9136)\n",
            "epoch: 176 loss: tensor(0.9142)\n",
            "epoch: 177 loss: tensor(0.9132)\n",
            "epoch: 178 loss: tensor(0.9139)\n",
            "epoch: 179 loss: tensor(0.9126)\n",
            "epoch: 180 loss: tensor(0.9131)\n",
            "epoch: 181 loss: tensor(0.9126)\n",
            "epoch: 182 loss: tensor(0.9130)\n",
            "epoch: 183 loss: tensor(0.9125)\n",
            "epoch: 184 loss: tensor(0.9130)\n",
            "epoch: 185 loss: tensor(0.9121)\n",
            "epoch: 186 loss: tensor(0.9128)\n",
            "epoch: 187 loss: tensor(0.9120)\n",
            "epoch: 188 loss: tensor(0.9125)\n",
            "epoch: 189 loss: tensor(0.9117)\n",
            "epoch: 190 loss: tensor(0.9120)\n",
            "epoch: 191 loss: tensor(0.9111)\n",
            "epoch: 192 loss: tensor(0.9120)\n",
            "epoch: 193 loss: tensor(0.9112)\n",
            "epoch: 194 loss: tensor(0.9118)\n",
            "epoch: 195 loss: tensor(0.9109)\n",
            "epoch: 196 loss: tensor(0.9114)\n",
            "epoch: 197 loss: tensor(0.9107)\n",
            "epoch: 198 loss: tensor(0.9112)\n",
            "epoch: 199 loss: tensor(0.9102)\n",
            "epoch: 200 loss: tensor(0.9108)\n"
          ],
          "name": "stdout"
        }
      ]
    },
    {
      "cell_type": "code",
      "metadata": {
        "id": "yMvdGa_6S-pg",
        "colab_type": "code",
        "colab": {
          "base_uri": "https://localhost:8080/",
          "height": 88
        },
        "outputId": "2d3c8596-91e5-46b2-e5ee-63b210c84eeb"
      },
      "source": [
        "# Testing the SAE\n",
        "test_loss = 0\n",
        "s = 0.\n",
        "for id_user in range(nb_users):\n",
        "    input = Variable(training_set[id_user]).unsqueeze(0)\n",
        "    target = Variable(test_set[id_user])\n",
        "    if torch.sum(target.data > 0) > 0:\n",
        "        output = sae(input)\n",
        "        target.require_grad = False\n",
        "        output[(target == 0).unsqueeze(0)] = 0\n",
        "        loss = criterion(output, target)\n",
        "        mean_corrector = nb_movies/float(torch.sum(target.data > 0) + 1e-10)\n",
        "        test_loss += np.sqrt(loss.data*mean_corrector)\n",
        "        s += 1.\n",
        "print('test loss: '+str(test_loss/s))"
      ],
      "execution_count": 16,
      "outputs": [
        {
          "output_type": "stream",
          "text": [
            "/usr/local/lib/python3.6/dist-packages/torch/nn/modules/loss.py:432: UserWarning: Using a target size (torch.Size([1682])) that is different to the input size (torch.Size([1, 1682])). This will likely lead to incorrect results due to broadcasting. Please ensure they have the same size.\n",
            "  return F.mse_loss(input, target, reduction=self.reduction)\n"
          ],
          "name": "stderr"
        },
        {
          "output_type": "stream",
          "text": [
            "test loss: tensor(0.9498)\n"
          ],
          "name": "stdout"
        }
      ]
    }
  ]
}